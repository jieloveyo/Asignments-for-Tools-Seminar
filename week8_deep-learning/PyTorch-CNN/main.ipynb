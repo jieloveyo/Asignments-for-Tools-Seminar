{
 "cells": [
  {
   "cell_type": "markdown",
   "metadata": {},
   "source": [
    "## Simple CNN\n",
    "\n",
    "In this assignment, you need to build a simple CNN to classify images in CIFAR-10 dataset.\n",
    "\n",
    "![cifar10](https://pytorch.org/tutorials/_images/cifar10.png)\n",
    "\n",
    "The framework is given below. What you need to do is to build your net. Then tune the hyperparameters, train the NN, and achieve **60%+** accuracy. (about 1h training on CPU is enough)\n",
    "\n",
    "You can also refer to the [PyTorch tutorial](https://pytorch.org/tutorials/beginner/blitz/cifar10_tutorial.html)."
   ]
  },
  {
   "cell_type": "code",
   "execution_count": 1,
   "metadata": {},
   "outputs": [
    {
     "name": "stdout",
     "output_type": "stream",
     "text": [
      "1.4.0+cpu\n"
     ]
    }
   ],
   "source": [
    "import torch\n",
    "import torch.nn as nn\n",
    "import torch.nn.functional as F\n",
    "from torchvision import datasets, transforms\n",
    "import numpy as np\n",
    "from tqdm import tqdm\n",
    "import torch\n",
    "import torchvision\n",
    "import torchvision.transforms as transforms\n",
    "\n",
    "print(torch.__version__)"
   ]
  },
  {
   "cell_type": "markdown",
   "metadata": {},
   "source": [
    "Some hyperparameters. They are maybe not the best, you need to tune, especially the learning rate."
   ]
  },
  {
   "cell_type": "code",
   "execution_count": 2,
   "metadata": {},
   "outputs": [],
   "source": [
    "LEARNING_RATE = 1e-3\n",
    "NUM_EPOCHS = 20\n",
    "BATCH_SIZE = 32 # Mini-batch size\n"
   ]
  },
  {
   "cell_type": "markdown",
   "metadata": {},
   "source": [
    "**TODO**: Define your NN here.\n",
    "\n",
    "Some reference networks:\n",
    "* LeNet\n",
    "* AlexNet\n",
    "* VGG\n",
    "* GoogleLeNet (maybe to large for your PC to train)\n",
    "* ResNet (too large)\n",
    "\n",
    "Ref: [Overview of CNN Development - Zhihu](https://zhuanlan.zhihu.com/p/66215918)\n",
    "\n",
    "Do not directly copy others' code. Check these networks' structure and write code yourself."
   ]
  },
  {
   "cell_type": "code",
   "execution_count": 3,
   "metadata": {},
   "outputs": [
    {
     "name": "stdout",
     "output_type": "stream",
     "text": [
      "net(\n",
      "  (conv1): Conv2d(3, 6, kernel_size=(5, 5), stride=(1, 1))\n",
      "  (pool): MaxPool2d(kernel_size=2, stride=2, padding=0, dilation=1, ceil_mode=False)\n",
      "  (conv2): Conv2d(6, 16, kernel_size=(5, 5), stride=(1, 1))\n",
      "  (fc1): Linear(in_features=400, out_features=120, bias=True)\n",
      "  (fc2): Linear(in_features=120, out_features=84, bias=True)\n",
      "  (fc3): Linear(in_features=84, out_features=10, bias=True)\n",
      ")\n"
     ]
    }
   ],
   "source": [
    "# 32*32*3\n",
    "\n",
    "class net(nn.Module):\n",
    "\n",
    "    def __init__(self):\n",
    "        super(net, self).__init__()\n",
    "        self.conv1 = nn.Conv2d(3, 6, 5)   # 32*32 ==> 28*28\n",
    "        self.pool = nn.MaxPool2d(2, 2)    # 28*28 ==> 14*14   10*10 ==> 5*5\n",
    "        self.conv2 = nn.Conv2d(6, 16, 5)  # 14*14 ==> 10*10\n",
    "        #全连接层\n",
    "        self.fc1 = nn.Linear(16 * 5 * 5, 120)\n",
    "        self.fc2 = nn.Linear(120, 84)\n",
    "        self.fc3 = nn.Linear(84, 10)\n",
    "        \n",
    "    def forward(self, x):\n",
    "        x = self.pool(F.relu(self.conv1(x)))\n",
    "        x = self.pool(F.relu(self.conv2(x)))\n",
    "        x = x.view(-1, 16 * 5 * 5) # 变成一维\n",
    "        x = F.relu(self.fc1(x))\n",
    "        x = F.relu(self.fc2(x))\n",
    "        x = self.fc3(x)\n",
    "        return x\n",
    "\n",
    "model = net()\n",
    "print(model)"
   ]
  },
  {
   "cell_type": "markdown",
   "metadata": {},
   "source": [
    "Load CIFAR-10 dataset. Downloading will be started automatically."
   ]
  },
  {
   "cell_type": "code",
   "execution_count": 4,
   "metadata": {},
   "outputs": [
    {
     "name": "stdout",
     "output_type": "stream",
     "text": [
      "Files already downloaded and verified\n",
      "Files already downloaded and verified\n"
     ]
    }
   ],
   "source": [
    "transform = transforms.Compose([\n",
    "    transforms.ToTensor(),\n",
    "    transforms.Normalize(mean=[0.485, 0.456, 0.406], # magic numbers\n",
    "                         std=[0.229, 0.224, 0.225]) # 3 channels\n",
    "])\n",
    "\n",
    "train_dataset = datasets.CIFAR10(root='./data', train=True, download=True, transform=transform)\n",
    "test_dataset = datasets.CIFAR10(root='./data', train=False, download=True, transform=transform)\n",
    "\n",
    "train_dataloader = torch.utils.data.DataLoader(train_dataset, batch_size=BATCH_SIZE, shuffle=True)\n",
    "test_dataloader = torch.utils.data.DataLoader(test_dataset, batch_size=BATCH_SIZE, shuffle=False)"
   ]
  },
  {
   "cell_type": "markdown",
   "metadata": {},
   "source": [
    "Define the loss function."
   ]
  },
  {
   "cell_type": "code",
   "execution_count": 5,
   "metadata": {},
   "outputs": [],
   "source": [
    "criterion = nn.CrossEntropyLoss()"
   ]
  },
  {
   "cell_type": "markdown",
   "metadata": {},
   "source": [
    "Define the optimizer. You can **choose other** optimizers as you like."
   ]
  },
  {
   "cell_type": "code",
   "execution_count": 6,
   "metadata": {},
   "outputs": [],
   "source": [
    "optimizer = torch.optim.Adam(model.parameters(), lr=LEARNING_RATE)"
   ]
  },
  {
   "cell_type": "code",
   "execution_count": 7,
   "metadata": {},
   "outputs": [],
   "source": [
    "CONFIG = {\"lr\": LEARNING_RATE,\n",
    "          \"num_epochs\": NUM_EPOCHS,\n",
    "          \"batch_size\": BATCH_SIZE,\n",
    "         }"
   ]
  },
  {
   "cell_type": "markdown",
   "metadata": {},
   "source": [
    "Evaluation process."
   ]
  },
  {
   "cell_type": "code",
   "execution_count": 8,
   "metadata": {},
   "outputs": [],
   "source": [
    "def evaluate(model_eval, loader_eval, criterion_eval):\n",
    "    model_eval.eval()\n",
    "    loss_eval = 0\n",
    "    correct = 0.\n",
    "    pbar = tqdm(total = len(loader_eval), desc='Evaluation', ncols=100)\n",
    "    with torch.no_grad():\n",
    "        for data, target in loader_eval:\n",
    "            output = model(data)\n",
    "            loss_eval += criterion_eval(output, target).item()\n",
    "\n",
    "            pred = output.argmax(dim=1, keepdim=True)\n",
    "            correct += pred.eq(target.view_as(pred)).sum().item()\n",
    "            pbar.update(1)\n",
    "    pbar.close()\n",
    "\n",
    "    loss_eval = loss_eval / loader_eval.dataset.__len__()\n",
    "    accuracy = correct / loader_eval.dataset.__len__()\n",
    "    response = {'loss': loss_eval, 'acc': accuracy}\n",
    "    return response"
   ]
  },
  {
   "cell_type": "markdown",
   "metadata": {},
   "source": [
    "The main training function defined below. Be careful of [overfitting](https://en.wikipedia.org/wiki/Overfitting)!"
   ]
  },
  {
   "cell_type": "code",
   "execution_count": 9,
   "metadata": {},
   "outputs": [
    {
     "name": "stderr",
     "output_type": "stream",
     "text": [
      "Train - Epoch 0: 100%|██████████████████████████████████████████| 1563/1563 [00:41<00:00, 37.50it/s]\n",
      "Evaluation: 100%|███████████████████████████████████████████████| 1563/1563 [00:23<00:00, 67.53it/s]\n",
      "Evaluation: 100%|█████████████████████████████████████████████████| 313/313 [00:04<00:00, 64.35it/s]\n",
      "C:\\Users\\jlovey\\Anaconda3\\lib\\site-packages\\torch\\serialization.py:360: UserWarning: Couldn't retrieve source code for container of type net. It won't be checked for correctness upon loading.\n",
      "  \"type \" + obj.__name__ + \". It won't be checked \"\n",
      "Train - Epoch 1:   0%|                                             | 4/1563 [00:00<00:41, 38.00it/s]"
     ]
    },
    {
     "name": "stdout",
     "output_type": "stream",
     "text": [
      "-*-*-*-*-*- Epoch 0 -*-*-*-*-*-\n",
      "Train Loss: 0.040869\t\n",
      "Train Acc: 0.530060\t\n",
      "Eval Loss: 0.041629\t\n",
      "Eval Acc: 0.518700\t\n",
      "\n",
      "\n"
     ]
    },
    {
     "name": "stderr",
     "output_type": "stream",
     "text": [
      "Train - Epoch 1: 100%|██████████████████████████████████████████| 1563/1563 [00:52<00:00, 30.00it/s]\n",
      "Evaluation: 100%|███████████████████████████████████████████████| 1563/1563 [00:25<00:00, 60.73it/s]\n",
      "Evaluation: 100%|█████████████████████████████████████████████████| 313/313 [00:05<00:00, 59.51it/s]\n",
      "Train - Epoch 2:   0%|                                             | 4/1563 [00:00<00:47, 32.70it/s]"
     ]
    },
    {
     "name": "stdout",
     "output_type": "stream",
     "text": [
      "-*-*-*-*-*- Epoch 1 -*-*-*-*-*-\n",
      "Train Loss: 0.035430\t\n",
      "Train Acc: 0.595080\t\n",
      "Eval Loss: 0.037151\t\n",
      "Eval Acc: 0.573200\t\n",
      "\n",
      "\n"
     ]
    },
    {
     "name": "stderr",
     "output_type": "stream",
     "text": [
      "Train - Epoch 2: 100%|██████████████████████████████████████████| 1563/1563 [01:01<00:00, 25.38it/s]\n",
      "Evaluation: 100%|███████████████████████████████████████████████| 1563/1563 [00:38<00:00, 41.02it/s]\n",
      "Evaluation: 100%|█████████████████████████████████████████████████| 313/313 [00:07<00:00, 42.62it/s]\n",
      "Train - Epoch 3:   0%|                                             | 3/1563 [00:00<00:55, 28.02it/s]"
     ]
    },
    {
     "name": "stdout",
     "output_type": "stream",
     "text": [
      "-*-*-*-*-*- Epoch 2 -*-*-*-*-*-\n",
      "Train Loss: 0.033037\t\n",
      "Train Acc: 0.623680\t\n",
      "Eval Loss: 0.035767\t\n",
      "Eval Acc: 0.592000\t\n",
      "\n",
      "\n"
     ]
    },
    {
     "name": "stderr",
     "output_type": "stream",
     "text": [
      "Train - Epoch 3: 100%|██████████████████████████████████████████| 1563/1563 [01:03<00:00, 24.54it/s]\n",
      "Evaluation: 100%|███████████████████████████████████████████████| 1563/1563 [00:28<00:00, 53.90it/s]\n",
      "Evaluation: 100%|█████████████████████████████████████████████████| 313/313 [00:05<00:00, 53.88it/s]\n",
      "Train - Epoch 4:   0%|                                             | 4/1563 [00:00<00:54, 28.76it/s]"
     ]
    },
    {
     "name": "stdout",
     "output_type": "stream",
     "text": [
      "-*-*-*-*-*- Epoch 3 -*-*-*-*-*-\n",
      "Train Loss: 0.031327\t\n",
      "Train Acc: 0.645940\t\n",
      "Eval Loss: 0.035585\t\n",
      "Eval Acc: 0.602600\t\n",
      "\n",
      "\n"
     ]
    },
    {
     "name": "stderr",
     "output_type": "stream",
     "text": [
      "Train - Epoch 4: 100%|██████████████████████████████████████████| 1563/1563 [01:00<00:00, 25.84it/s]\n",
      "Evaluation: 100%|███████████████████████████████████████████████| 1563/1563 [00:26<00:00, 59.63it/s]\n",
      "Evaluation: 100%|█████████████████████████████████████████████████| 313/313 [00:05<00:00, 57.89it/s]\n",
      "Train - Epoch 5:   0%|                                             | 3/1563 [00:00<00:52, 29.58it/s]"
     ]
    },
    {
     "name": "stdout",
     "output_type": "stream",
     "text": [
      "-*-*-*-*-*- Epoch 4 -*-*-*-*-*-\n",
      "Train Loss: 0.028837\t\n",
      "Train Acc: 0.675160\t\n",
      "Eval Loss: 0.033623\t\n",
      "Eval Acc: 0.621400\t\n",
      "\n",
      "\n"
     ]
    },
    {
     "name": "stderr",
     "output_type": "stream",
     "text": [
      "Train - Epoch 5: 100%|██████████████████████████████████████████| 1563/1563 [00:57<00:00, 27.01it/s]\n",
      "Evaluation: 100%|███████████████████████████████████████████████| 1563/1563 [00:26<00:00, 58.95it/s]\n",
      "Evaluation: 100%|█████████████████████████████████████████████████| 313/313 [00:05<00:00, 58.38it/s]\n",
      "Train - Epoch 6:   0%|                                             | 4/1563 [00:00<00:51, 30.49it/s]"
     ]
    },
    {
     "name": "stdout",
     "output_type": "stream",
     "text": [
      "-*-*-*-*-*- Epoch 5 -*-*-*-*-*-\n",
      "Train Loss: 0.028161\t\n",
      "Train Acc: 0.680940\t\n",
      "Eval Loss: 0.034454\t\n",
      "Eval Acc: 0.618900\t\n",
      "\n",
      "\n"
     ]
    },
    {
     "name": "stderr",
     "output_type": "stream",
     "text": [
      "Train - Epoch 6: 100%|██████████████████████████████████████████| 1563/1563 [00:57<00:00, 27.25it/s]\n",
      "Evaluation: 100%|███████████████████████████████████████████████| 1563/1563 [00:30<00:00, 51.77it/s]\n",
      "Evaluation: 100%|█████████████████████████████████████████████████| 313/313 [00:05<00:00, 53.86it/s]\n",
      "Train - Epoch 7:   0%|                                             | 3/1563 [00:00<00:53, 29.07it/s]"
     ]
    },
    {
     "name": "stdout",
     "output_type": "stream",
     "text": [
      "-*-*-*-*-*- Epoch 6 -*-*-*-*-*-\n",
      "Train Loss: 0.025256\t\n",
      "Train Acc: 0.712780\t\n",
      "Eval Loss: 0.033271\t\n",
      "Eval Acc: 0.631400\t\n",
      "\n",
      "\n"
     ]
    },
    {
     "name": "stderr",
     "output_type": "stream",
     "text": [
      "Train - Epoch 7: 100%|██████████████████████████████████████████| 1563/1563 [01:00<00:00, 25.63it/s]\n",
      "Evaluation: 100%|███████████████████████████████████████████████| 1563/1563 [00:30<00:00, 52.02it/s]\n",
      "Evaluation: 100%|█████████████████████████████████████████████████| 313/313 [00:05<00:00, 53.32it/s]\n",
      "Train - Epoch 8:   0%|                                             | 3/1563 [00:00<00:59, 26.39it/s]"
     ]
    },
    {
     "name": "stdout",
     "output_type": "stream",
     "text": [
      "-*-*-*-*-*- Epoch 7 -*-*-*-*-*-\n",
      "Train Loss: 0.025412\t\n",
      "Train Acc: 0.712200\t\n",
      "Eval Loss: 0.033791\t\n",
      "Eval Acc: 0.628500\t\n",
      "\n",
      "\n"
     ]
    },
    {
     "name": "stderr",
     "output_type": "stream",
     "text": [
      "Train - Epoch 8: 100%|██████████████████████████████████████████| 1563/1563 [01:01<00:00, 25.41it/s]\n",
      "Evaluation: 100%|███████████████████████████████████████████████| 1563/1563 [00:29<00:00, 52.71it/s]\n",
      "Evaluation: 100%|█████████████████████████████████████████████████| 313/313 [00:05<00:00, 56.64it/s]\n",
      "Train - Epoch 9:   0%|                                             | 4/1563 [00:00<00:50, 31.13it/s]"
     ]
    },
    {
     "name": "stdout",
     "output_type": "stream",
     "text": [
      "-*-*-*-*-*- Epoch 8 -*-*-*-*-*-\n",
      "Train Loss: 0.022895\t\n",
      "Train Acc: 0.742720\t\n",
      "Eval Loss: 0.033410\t\n",
      "Eval Acc: 0.637100\t\n",
      "\n",
      "\n"
     ]
    },
    {
     "name": "stderr",
     "output_type": "stream",
     "text": [
      "Train - Epoch 9: 100%|██████████████████████████████████████████| 1563/1563 [01:01<00:00, 25.29it/s]\n",
      "Evaluation: 100%|███████████████████████████████████████████████| 1563/1563 [00:28<00:00, 54.78it/s]\n",
      "Evaluation: 100%|█████████████████████████████████████████████████| 313/313 [00:05<00:00, 52.75it/s]\n",
      "Train - Epoch 10:   0%|                                            | 3/1563 [00:00<00:54, 28.70it/s]"
     ]
    },
    {
     "name": "stdout",
     "output_type": "stream",
     "text": [
      "-*-*-*-*-*- Epoch 9 -*-*-*-*-*-\n",
      "Train Loss: 0.022224\t\n",
      "Train Acc: 0.747280\t\n",
      "Eval Loss: 0.034109\t\n",
      "Eval Acc: 0.633800\t\n",
      "\n",
      "\n"
     ]
    },
    {
     "name": "stderr",
     "output_type": "stream",
     "text": [
      "Train - Epoch 10: 100%|█████████████████████████████████████████| 1563/1563 [00:59<00:00, 26.06it/s]\n",
      "Evaluation: 100%|███████████████████████████████████████████████| 1563/1563 [00:28<00:00, 54.40it/s]\n",
      "Evaluation: 100%|█████████████████████████████████████████████████| 313/313 [00:05<00:00, 58.84it/s]\n",
      "Train - Epoch 11:   0%|                                            | 3/1563 [00:00<00:56, 27.43it/s]"
     ]
    },
    {
     "name": "stdout",
     "output_type": "stream",
     "text": [
      "-*-*-*-*-*- Epoch 10 -*-*-*-*-*-\n",
      "Train Loss: 0.021313\t\n",
      "Train Acc: 0.763120\t\n",
      "Eval Loss: 0.033667\t\n",
      "Eval Acc: 0.637100\t\n",
      "\n",
      "\n"
     ]
    },
    {
     "name": "stderr",
     "output_type": "stream",
     "text": [
      "Train - Epoch 11: 100%|█████████████████████████████████████████| 1563/1563 [00:56<00:00, 27.55it/s]\n",
      "Evaluation: 100%|███████████████████████████████████████████████| 1563/1563 [00:25<00:00, 60.93it/s]\n",
      "Evaluation: 100%|█████████████████████████████████████████████████| 313/313 [00:05<00:00, 58.17it/s]\n",
      "Train - Epoch 12:   0%|                                            | 4/1563 [00:00<00:49, 31.21it/s]"
     ]
    },
    {
     "name": "stdout",
     "output_type": "stream",
     "text": [
      "-*-*-*-*-*- Epoch 11 -*-*-*-*-*-\n",
      "Train Loss: 0.020034\t\n",
      "Train Acc: 0.774260\t\n",
      "Eval Loss: 0.033922\t\n",
      "Eval Acc: 0.640400\t\n",
      "\n",
      "\n"
     ]
    },
    {
     "name": "stderr",
     "output_type": "stream",
     "text": [
      "Train - Epoch 12: 100%|█████████████████████████████████████████| 1563/1563 [00:57<00:00, 27.06it/s]\n",
      "Evaluation: 100%|███████████████████████████████████████████████| 1563/1563 [00:26<00:00, 59.31it/s]\n",
      "Evaluation: 100%|█████████████████████████████████████████████████| 313/313 [00:05<00:00, 59.95it/s]\n",
      "Train - Epoch 13:   0%|                                            | 3/1563 [00:00<00:57, 27.17it/s]"
     ]
    },
    {
     "name": "stdout",
     "output_type": "stream",
     "text": [
      "-*-*-*-*-*- Epoch 12 -*-*-*-*-*-\n",
      "Train Loss: 0.021241\t\n",
      "Train Acc: 0.755900\t\n",
      "Eval Loss: 0.036838\t\n",
      "Eval Acc: 0.627700\t\n",
      "\n",
      "\n"
     ]
    },
    {
     "name": "stderr",
     "output_type": "stream",
     "text": [
      "Train - Epoch 13: 100%|█████████████████████████████████████████| 1563/1563 [01:00<00:00, 25.87it/s]\n",
      "Evaluation: 100%|███████████████████████████████████████████████| 1563/1563 [00:27<00:00, 56.37it/s]\n",
      "Evaluation: 100%|█████████████████████████████████████████████████| 313/313 [00:05<00:00, 61.41it/s]\n",
      "Train - Epoch 14:   0%|                                            | 4/1563 [00:00<00:50, 31.03it/s]"
     ]
    },
    {
     "name": "stdout",
     "output_type": "stream",
     "text": [
      "-*-*-*-*-*- Epoch 13 -*-*-*-*-*-\n",
      "Train Loss: 0.019842\t\n",
      "Train Acc: 0.773440\t\n",
      "Eval Loss: 0.036879\t\n",
      "Eval Acc: 0.633000\t\n",
      "\n",
      "\n"
     ]
    },
    {
     "name": "stderr",
     "output_type": "stream",
     "text": [
      "Train - Epoch 14: 100%|█████████████████████████████████████████| 1563/1563 [00:59<00:00, 26.47it/s]\n",
      "Evaluation: 100%|███████████████████████████████████████████████| 1563/1563 [00:28<00:00, 54.29it/s]\n",
      "Evaluation: 100%|█████████████████████████████████████████████████| 313/313 [00:05<00:00, 53.54it/s]\n",
      "Train - Epoch 15:   0%|                                            | 4/1563 [00:00<00:55, 28.06it/s]"
     ]
    },
    {
     "name": "stdout",
     "output_type": "stream",
     "text": [
      "-*-*-*-*-*- Epoch 14 -*-*-*-*-*-\n",
      "Train Loss: 0.018953\t\n",
      "Train Acc: 0.784260\t\n",
      "Eval Loss: 0.037239\t\n",
      "Eval Acc: 0.628500\t\n",
      "\n",
      "\n"
     ]
    },
    {
     "name": "stderr",
     "output_type": "stream",
     "text": [
      "Train - Epoch 15: 100%|█████████████████████████████████████████| 1563/1563 [01:00<00:00, 25.75it/s]\n",
      "Evaluation: 100%|███████████████████████████████████████████████| 1563/1563 [00:29<00:00, 53.88it/s]\n",
      "Evaluation: 100%|█████████████████████████████████████████████████| 313/313 [00:05<00:00, 56.61it/s]\n",
      "Train - Epoch 16:   0%|                                            | 3/1563 [00:00<00:57, 27.21it/s]"
     ]
    },
    {
     "name": "stdout",
     "output_type": "stream",
     "text": [
      "-*-*-*-*-*- Epoch 15 -*-*-*-*-*-\n",
      "Train Loss: 0.019571\t\n",
      "Train Acc: 0.777780\t\n",
      "Eval Loss: 0.038294\t\n",
      "Eval Acc: 0.619600\t\n",
      "\n",
      "\n"
     ]
    },
    {
     "name": "stderr",
     "output_type": "stream",
     "text": [
      "Train - Epoch 16: 100%|█████████████████████████████████████████| 1563/1563 [01:00<00:00, 25.77it/s]\n",
      "Evaluation: 100%|███████████████████████████████████████████████| 1563/1563 [00:29<00:00, 53.69it/s]\n",
      "Evaluation: 100%|█████████████████████████████████████████████████| 313/313 [00:05<00:00, 53.87it/s]\n",
      "Train - Epoch 17:   0%|                                            | 4/1563 [00:00<00:55, 28.11it/s]"
     ]
    },
    {
     "name": "stdout",
     "output_type": "stream",
     "text": [
      "-*-*-*-*-*- Epoch 16 -*-*-*-*-*-\n",
      "Train Loss: 0.016556\t\n",
      "Train Acc: 0.814380\t\n",
      "Eval Loss: 0.037667\t\n",
      "Eval Acc: 0.635300\t\n",
      "\n",
      "\n"
     ]
    },
    {
     "name": "stderr",
     "output_type": "stream",
     "text": [
      "Train - Epoch 17: 100%|█████████████████████████████████████████| 1563/1563 [01:08<00:00, 22.68it/s]\n",
      "Evaluation: 100%|███████████████████████████████████████████████| 1563/1563 [00:29<00:00, 52.91it/s]\n",
      "Evaluation: 100%|█████████████████████████████████████████████████| 313/313 [00:05<00:00, 57.19it/s]\n",
      "Train - Epoch 18:   0%|                                            | 4/1563 [00:00<00:49, 31.20it/s]"
     ]
    },
    {
     "name": "stdout",
     "output_type": "stream",
     "text": [
      "-*-*-*-*-*- Epoch 17 -*-*-*-*-*-\n",
      "Train Loss: 0.016216\t\n",
      "Train Acc: 0.815280\t\n",
      "Eval Loss: 0.039324\t\n",
      "Eval Acc: 0.621800\t\n",
      "\n",
      "\n"
     ]
    },
    {
     "name": "stderr",
     "output_type": "stream",
     "text": [
      "Train - Epoch 18: 100%|█████████████████████████████████████████| 1563/1563 [01:00<00:00, 25.96it/s]\n",
      "Evaluation: 100%|███████████████████████████████████████████████| 1563/1563 [00:27<00:00, 56.47it/s]\n",
      "Evaluation: 100%|█████████████████████████████████████████████████| 313/313 [00:05<00:00, 54.29it/s]\n",
      "Train - Epoch 19:   0%|                                            | 3/1563 [00:00<00:59, 26.39it/s]"
     ]
    },
    {
     "name": "stdout",
     "output_type": "stream",
     "text": [
      "-*-*-*-*-*- Epoch 18 -*-*-*-*-*-\n",
      "Train Loss: 0.016827\t\n",
      "Train Acc: 0.809500\t\n",
      "Eval Loss: 0.040961\t\n",
      "Eval Acc: 0.618000\t\n",
      "\n",
      "\n"
     ]
    },
    {
     "name": "stderr",
     "output_type": "stream",
     "text": [
      "Train - Epoch 19: 100%|█████████████████████████████████████████| 1563/1563 [01:02<00:00, 25.04it/s]\n",
      "Evaluation: 100%|███████████████████████████████████████████████| 1563/1563 [00:29<00:00, 52.27it/s]\n",
      "Evaluation: 100%|█████████████████████████████████████████████████| 313/313 [00:05<00:00, 60.34it/s]\n"
     ]
    },
    {
     "name": "stdout",
     "output_type": "stream",
     "text": [
      "-*-*-*-*-*- Epoch 19 -*-*-*-*-*-\n",
      "Train Loss: 0.015409\t\n",
      "Train Acc: 0.824440\t\n",
      "Eval Loss: 0.042112\t\n",
      "Eval Acc: 0.619000\t\n",
      "\n",
      "\n"
     ]
    }
   ],
   "source": [
    "train_acc = np.zeros(NUM_EPOCHS)\n",
    "eval_acc = np.zeros(NUM_EPOCHS)\n",
    "train_loss = np.zeros(NUM_EPOCHS)\n",
    "eval_loss = np.zeros(NUM_EPOCHS)\n",
    "\n",
    "model.train()\n",
    "for epoch_idx in range(NUM_EPOCHS):\n",
    "    pbar = tqdm(total = len(train_dataloader), desc='Train - Epoch {}'.format(epoch_idx), ncols=100)\n",
    "    for batch_idx, (data, target) in enumerate(train_dataloader):\n",
    "        optimizer.zero_grad()\n",
    "        output = model(data)\n",
    "        loss = criterion(output, target)\n",
    "        loss.backward()\n",
    "        optimizer.step()\n",
    "\n",
    "        pbar.update(1)\n",
    "    pbar.close()\n",
    "\n",
    "    train_resp = evaluate(model, train_dataloader, criterion)\n",
    "    eval_resp = evaluate(model, test_dataloader, criterion)\n",
    "\n",
    "    print ('-*-*-*-*-*- Epoch {} -*-*-*-*-*-'.format(epoch_idx))\n",
    "    print ('Train Loss: {:.6f}\\t'.format(train_resp['loss']))\n",
    "    print ('Train Acc: {:.6f}\\t'.format(train_resp['acc']))\n",
    "    print ('Eval Loss: {:.6f}\\t'.format(eval_resp['loss']))\n",
    "    print ('Eval Acc: {:.6f}\\t'.format(eval_resp['acc']))\n",
    "    print ('\\n')\n",
    "\n",
    "    train_acc[epoch_idx] = train_resp['acc']\n",
    "    eval_acc[epoch_idx] = eval_resp['acc']\n",
    "    train_loss[epoch_idx] = train_resp['loss']\n",
    "    eval_loss[epoch_idx] = eval_resp['loss']\n",
    "\n",
    "    # save model and training data\n",
    "    torch.save(model, 'simple-cnn.pth')\n",
    "    np.savez('simple-cnn',config=CONFIG,train_acc=train_acc, eval_acc=eval_acc,train_loss=train_loss, eval_loss=eval_loss)"
   ]
  },
  {
   "cell_type": "markdown",
   "metadata": {},
   "source": [
    "Visualize the training process"
   ]
  },
  {
   "cell_type": "code",
   "execution_count": 10,
   "metadata": {},
   "outputs": [
    {
     "data": {
      "image/png": "[encoded data removed]",
      "text/plain": [
       "<Figure size 432x288 with 1 Axes>"
      ]
     },
     "metadata": {
      "needs_background": "light"
     },
     "output_type": "display_data"
    },
    {
     "data": {
      "image/png": "[encoded data removed]",
      "text/plain": [
       "<Figure size 432x288 with 1 Axes>"
      ]
     },
     "metadata": {
      "needs_background": "light"
     },
     "output_type": "display_data"
    }
   ],
   "source": [
    "import matplotlib.pyplot as plt\n",
    "\n",
    "\n",
    "def plot_acc(train_acc,eval_acc):\n",
    "    plt.plot(train_acc,label=\"Train\")\n",
    "    plt.plot(eval_acc,label=\"Test\")\n",
    "    plt.xlabel(\"Epoch\")\n",
    "    plt.ylabel(\"Accuracy\")\n",
    "    plt.legend()\n",
    "    plt.show()\n",
    "\n",
    "def plot_loss(train_loss,eval_loss):\n",
    "    plt.plot(train_loss,label=\"Train\")\n",
    "    plt.plot(eval_loss,label=\"Test\")\n",
    "    plt.xlabel(\"Epoch\")\n",
    "    plt.ylabel(\"Loss\")\n",
    "    plt.legend()\n",
    "    plt.show()\n",
    "    \n",
    "plot_acc(train_acc,eval_acc)\n",
    "plot_loss(train_loss,eval_loss)"
   ]
  },
  {
   "cell_type": "code",
   "execution_count": null,
   "metadata": {},
   "outputs": [],
   "source": []
  }
 ],
 "metadata": {
  "kernelspec": {
   "display_name": "Python 3",
   "language": "python",
   "name": "python3"
  },
  "language_info": {
   "codemirror_mode": {
    "name": "ipython",
    "version": 3
   },
   "file_extension": ".py",
   "mimetype": "text/x-python",
   "name": "python",
   "nbconvert_exporter": "python",
   "pygments_lexer": "ipython3",
   "version": "3.7.7"
  }
 },
 "nbformat": 4,
 "nbformat_minor": 4
}
